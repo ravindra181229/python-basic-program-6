{
 "cells": [
  {
   "cell_type": "code",
   "execution_count": 37,
   "id": "b600370a",
   "metadata": {},
   "outputs": [
    {
     "name": "stdout",
     "output_type": "stream",
     "text": [
      "enter the value: 7\n",
      "the fibonacci sequence is: \n",
      "0\n",
      "1\n",
      "1\n",
      "2\n",
      "3\n",
      "5\n",
      "8\n"
     ]
    }
   ],
   "source": [
    "#Q1\n",
    "#to display fibonacci sequence using recursion\n",
    "try:\n",
    "    def fib(n):\n",
    "        if n<=1:\n",
    "            return n\n",
    "        else:\n",
    "            return (fib(n-1) + fib(n-2))\n",
    "    a = int(input(\"enter the value: \"))\n",
    "    if a<=0:\n",
    "        print(\"enter a positive integer\")\n",
    "    else:\n",
    "        print(\"the fibonacci sequence is: \")\n",
    "        for i in range(a):\n",
    "            print(fib(i))\n",
    "except Exception as e:\n",
    "    print(\"please enter a valid integer\", e)"
   ]
  },
  {
   "cell_type": "code",
   "execution_count": 38,
   "id": "4bca16d1",
   "metadata": {},
   "outputs": [
    {
     "name": "stdout",
     "output_type": "stream",
     "text": [
      "factorial of the number is: 5040\n"
     ]
    }
   ],
   "source": [
    "#Q2\n",
    "#to find factorial of number using recursion \n",
    "def fact(n):\n",
    "    if n == 1:\n",
    "        return 1\n",
    "    else:\n",
    "        return n * fact(n-1)\n",
    "a = fact(7)\n",
    "print(\"factorial of the number is:\",a)\n",
    "    "
   ]
  },
  {
   "cell_type": "code",
   "execution_count": 39,
   "id": "92f4fc61",
   "metadata": {},
   "outputs": [
    {
     "name": "stdout",
     "output_type": "stream",
     "text": [
      "enter the height(cm): 155\n",
      "enter the weight(kg): 67\n",
      "your body mass index is: 28\n"
     ]
    }
   ],
   "source": [
    "#Q3\n",
    "#to calculate the BODY MASS INDEX \n",
    "try:\n",
    "    a = float(input(\"enter the height(cm): \"))\n",
    "    b = float(input(\"enter the weight(kg): \"))\n",
    "    print(\"your body mass index is:\",round(b/(a/100)**2))\n",
    "except Exception as e:\n",
    "    print(\"please enter your height and weight in numeric form: \",e)"
   ]
  },
  {
   "cell_type": "code",
   "execution_count": 41,
   "id": "fba630ec",
   "metadata": {},
   "outputs": [
    {
     "name": "stdout",
     "output_type": "stream",
     "text": [
      "the logrithm value is: 1.6094379124341003\n"
     ]
    }
   ],
   "source": [
    "#Q4\n",
    "#to calculate logrithm of a number\n",
    "import math\n",
    "a = math.log(5)\n",
    "print(\"the logrithm value is:\",a)"
   ]
  },
  {
   "cell_type": "code",
   "execution_count": 44,
   "id": "e90245fa",
   "metadata": {},
   "outputs": [
    {
     "name": "stdout",
     "output_type": "stream",
     "text": [
      "enter the number: 5\n",
      "225\n"
     ]
    }
   ],
   "source": [
    "#Q5\n",
    "#to find the cube of first n natural numbers\n",
    "def SOS(n):\n",
    "    sum = 0\n",
    "    for i in range(1,n+1):\n",
    "        sum += i*i*i\n",
    "    return sum\n",
    "n = int(input(\"enter the number: \"))\n",
    "print(SOS(n))"
   ]
  },
  {
   "cell_type": "code",
   "execution_count": null,
   "id": "52e07309",
   "metadata": {},
   "outputs": [],
   "source": []
  }
 ],
 "metadata": {
  "kernelspec": {
   "display_name": "Python 3",
   "language": "python",
   "name": "python3"
  },
  "language_info": {
   "codemirror_mode": {
    "name": "ipython",
    "version": 3
   },
   "file_extension": ".py",
   "mimetype": "text/x-python",
   "name": "python",
   "nbconvert_exporter": "python",
   "pygments_lexer": "ipython3",
   "version": "3.8.8"
  }
 },
 "nbformat": 4,
 "nbformat_minor": 5
}
